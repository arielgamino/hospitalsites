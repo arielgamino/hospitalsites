{
 "cells": [
  {
   "cell_type": "markdown",
   "metadata": {},
   "source": [
    "### Analyze Home Pages text through NLP\n",
    "\n",
    "Using the Spacy library, we take a quick look at entities that are most frequently found on hospital sites websites."
   ]
  },
  {
   "cell_type": "code",
   "execution_count": 1,
   "metadata": {},
   "outputs": [],
   "source": [
    "import pandas as pd"
   ]
  },
  {
   "cell_type": "code",
   "execution_count": 2,
   "metadata": {},
   "outputs": [],
   "source": [
    "#Read entity summary\n",
    "entity_summary_df = pd.read_csv('../screenshots/entities_results_060918.csv')\n",
    "#Read tokens summary\n",
    "tokens_summary_df = pd.read_csv('../screenshots/tokens_results_060918.csv')\n",
    "#Read entitiy corpus for each site\n",
    "entity_bysite_df = pd.read_csv('../screenshots/entity_site_data_060918.csv')\n",
    "#Read tokens corpus for each site\n",
    "tokens_bysite_df = pd.read_csv('../screenshots/token_site_data_060918.csv')\n"
   ]
  },
  {
   "cell_type": "markdown",
   "metadata": {},
   "source": [
    "### Explanation of columns found on entities\n",
    "\n",
    "URL - Hospital site URL\n",
    "\n",
    "GPE - Countries, cities, states.\n",
    "\n",
    "LOC - Non-GPE locations, mountain ranges, bodies of water.\n",
    "\n",
    "NORP - Nationalities or religious or political groups.\n",
    "\n",
    "ORG - Companies, agencies, institutions, etc.\n",
    "\n",
    "PERSON - People, including fictional.\n",
    "\n",
    "PRODUCT - Objects, vehicles, foods, etc. (Not services.)\n",
    "\n",
    "WORK_OF_ART - Titles of books, songs, etc."
   ]
  },
  {
   "cell_type": "code",
   "execution_count": 3,
   "metadata": {},
   "outputs": [
    {
     "data": {
      "text/html": [
       "<div>\n",
       "<style scoped>\n",
       "    .dataframe tbody tr th:only-of-type {\n",
       "        vertical-align: middle;\n",
       "    }\n",
       "\n",
       "    .dataframe tbody tr th {\n",
       "        vertical-align: top;\n",
       "    }\n",
       "\n",
       "    .dataframe thead th {\n",
       "        text-align: right;\n",
       "    }\n",
       "</style>\n",
       "<table border=\"1\" class=\"dataframe\">\n",
       "  <thead>\n",
       "    <tr style=\"text-align: right;\">\n",
       "      <th></th>\n",
       "      <th>URL</th>\n",
       "      <th>GPE</th>\n",
       "      <th>LOC</th>\n",
       "      <th>NORP</th>\n",
       "      <th>ORG</th>\n",
       "      <th>PERSON</th>\n",
       "      <th>PRODUCT</th>\n",
       "      <th>WORK_OF_ART</th>\n",
       "    </tr>\n",
       "  </thead>\n",
       "  <tbody>\n",
       "    <tr>\n",
       "      <th>count</th>\n",
       "      <td>4138.000000</td>\n",
       "      <td>3955.000000</td>\n",
       "      <td>2356.000000</td>\n",
       "      <td>2066.000000</td>\n",
       "      <td>4093.000000</td>\n",
       "      <td>3887.000000</td>\n",
       "      <td>1969.000000</td>\n",
       "      <td>3237.000000</td>\n",
       "    </tr>\n",
       "    <tr>\n",
       "      <th>mean</th>\n",
       "      <td>2068.500000</td>\n",
       "      <td>14.074589</td>\n",
       "      <td>2.848048</td>\n",
       "      <td>4.666021</td>\n",
       "      <td>58.595407</td>\n",
       "      <td>15.671469</td>\n",
       "      <td>2.997969</td>\n",
       "      <td>4.071362</td>\n",
       "    </tr>\n",
       "    <tr>\n",
       "      <th>std</th>\n",
       "      <td>1194.682036</td>\n",
       "      <td>23.490584</td>\n",
       "      <td>3.348137</td>\n",
       "      <td>12.598850</td>\n",
       "      <td>84.834106</td>\n",
       "      <td>42.402816</td>\n",
       "      <td>15.390249</td>\n",
       "      <td>7.351339</td>\n",
       "    </tr>\n",
       "    <tr>\n",
       "      <th>min</th>\n",
       "      <td>0.000000</td>\n",
       "      <td>1.000000</td>\n",
       "      <td>1.000000</td>\n",
       "      <td>1.000000</td>\n",
       "      <td>1.000000</td>\n",
       "      <td>1.000000</td>\n",
       "      <td>1.000000</td>\n",
       "      <td>1.000000</td>\n",
       "    </tr>\n",
       "    <tr>\n",
       "      <th>25%</th>\n",
       "      <td>1034.250000</td>\n",
       "      <td>4.000000</td>\n",
       "      <td>1.000000</td>\n",
       "      <td>1.000000</td>\n",
       "      <td>24.000000</td>\n",
       "      <td>4.000000</td>\n",
       "      <td>1.000000</td>\n",
       "      <td>2.000000</td>\n",
       "    </tr>\n",
       "    <tr>\n",
       "      <th>50%</th>\n",
       "      <td>2068.500000</td>\n",
       "      <td>8.000000</td>\n",
       "      <td>2.000000</td>\n",
       "      <td>2.000000</td>\n",
       "      <td>41.000000</td>\n",
       "      <td>7.000000</td>\n",
       "      <td>2.000000</td>\n",
       "      <td>3.000000</td>\n",
       "    </tr>\n",
       "    <tr>\n",
       "      <th>75%</th>\n",
       "      <td>3102.750000</td>\n",
       "      <td>15.000000</td>\n",
       "      <td>3.000000</td>\n",
       "      <td>3.000000</td>\n",
       "      <td>71.000000</td>\n",
       "      <td>15.000000</td>\n",
       "      <td>3.000000</td>\n",
       "      <td>5.000000</td>\n",
       "    </tr>\n",
       "    <tr>\n",
       "      <th>max</th>\n",
       "      <td>4137.000000</td>\n",
       "      <td>505.000000</td>\n",
       "      <td>74.000000</td>\n",
       "      <td>230.000000</td>\n",
       "      <td>2624.000000</td>\n",
       "      <td>979.000000</td>\n",
       "      <td>469.000000</td>\n",
       "      <td>230.000000</td>\n",
       "    </tr>\n",
       "  </tbody>\n",
       "</table>\n",
       "</div>"
      ],
      "text/plain": [
       "               URL          GPE          LOC         NORP          ORG  \\\n",
       "count  4138.000000  3955.000000  2356.000000  2066.000000  4093.000000   \n",
       "mean   2068.500000    14.074589     2.848048     4.666021    58.595407   \n",
       "std    1194.682036    23.490584     3.348137    12.598850    84.834106   \n",
       "min       0.000000     1.000000     1.000000     1.000000     1.000000   \n",
       "25%    1034.250000     4.000000     1.000000     1.000000    24.000000   \n",
       "50%    2068.500000     8.000000     2.000000     2.000000    41.000000   \n",
       "75%    3102.750000    15.000000     3.000000     3.000000    71.000000   \n",
       "max    4137.000000   505.000000    74.000000   230.000000  2624.000000   \n",
       "\n",
       "            PERSON      PRODUCT  WORK_OF_ART  \n",
       "count  3887.000000  1969.000000  3237.000000  \n",
       "mean     15.671469     2.997969     4.071362  \n",
       "std      42.402816    15.390249     7.351339  \n",
       "min       1.000000     1.000000     1.000000  \n",
       "25%       4.000000     1.000000     2.000000  \n",
       "50%       7.000000     2.000000     3.000000  \n",
       "75%      15.000000     3.000000     5.000000  \n",
       "max     979.000000   469.000000   230.000000  "
      ]
     },
     "execution_count": 3,
     "metadata": {},
     "output_type": "execute_result"
    }
   ],
   "source": [
    "entity_summary_df.describe()"
   ]
  },
  {
   "cell_type": "code",
   "execution_count": 4,
   "metadata": {},
   "outputs": [
    {
     "data": {
      "text/html": [
       "<div>\n",
       "<style scoped>\n",
       "    .dataframe tbody tr th:only-of-type {\n",
       "        vertical-align: middle;\n",
       "    }\n",
       "\n",
       "    .dataframe tbody tr th {\n",
       "        vertical-align: top;\n",
       "    }\n",
       "\n",
       "    .dataframe thead th {\n",
       "        text-align: right;\n",
       "    }\n",
       "</style>\n",
       "<table border=\"1\" class=\"dataframe\">\n",
       "  <thead>\n",
       "    <tr style=\"text-align: right;\">\n",
       "      <th></th>\n",
       "      <th>ORG</th>\n",
       "      <th>LOC</th>\n",
       "      <th>PERSON</th>\n",
       "      <th>GPE</th>\n",
       "    </tr>\n",
       "  </thead>\n",
       "  <tbody>\n",
       "    <tr>\n",
       "      <th>count</th>\n",
       "      <td>4093.000000</td>\n",
       "      <td>2356.000000</td>\n",
       "      <td>3887.000000</td>\n",
       "      <td>3955.000000</td>\n",
       "    </tr>\n",
       "    <tr>\n",
       "      <th>mean</th>\n",
       "      <td>58.595407</td>\n",
       "      <td>2.848048</td>\n",
       "      <td>15.671469</td>\n",
       "      <td>14.074589</td>\n",
       "    </tr>\n",
       "    <tr>\n",
       "      <th>std</th>\n",
       "      <td>84.834106</td>\n",
       "      <td>3.348137</td>\n",
       "      <td>42.402816</td>\n",
       "      <td>23.490584</td>\n",
       "    </tr>\n",
       "    <tr>\n",
       "      <th>min</th>\n",
       "      <td>1.000000</td>\n",
       "      <td>1.000000</td>\n",
       "      <td>1.000000</td>\n",
       "      <td>1.000000</td>\n",
       "    </tr>\n",
       "    <tr>\n",
       "      <th>25%</th>\n",
       "      <td>24.000000</td>\n",
       "      <td>1.000000</td>\n",
       "      <td>4.000000</td>\n",
       "      <td>4.000000</td>\n",
       "    </tr>\n",
       "    <tr>\n",
       "      <th>50%</th>\n",
       "      <td>41.000000</td>\n",
       "      <td>2.000000</td>\n",
       "      <td>7.000000</td>\n",
       "      <td>8.000000</td>\n",
       "    </tr>\n",
       "    <tr>\n",
       "      <th>75%</th>\n",
       "      <td>71.000000</td>\n",
       "      <td>3.000000</td>\n",
       "      <td>15.000000</td>\n",
       "      <td>15.000000</td>\n",
       "    </tr>\n",
       "    <tr>\n",
       "      <th>max</th>\n",
       "      <td>2624.000000</td>\n",
       "      <td>74.000000</td>\n",
       "      <td>979.000000</td>\n",
       "      <td>505.000000</td>\n",
       "    </tr>\n",
       "  </tbody>\n",
       "</table>\n",
       "</div>"
      ],
      "text/plain": [
       "               ORG          LOC       PERSON          GPE\n",
       "count  4093.000000  2356.000000  3887.000000  3955.000000\n",
       "mean     58.595407     2.848048    15.671469    14.074589\n",
       "std      84.834106     3.348137    42.402816    23.490584\n",
       "min       1.000000     1.000000     1.000000     1.000000\n",
       "25%      24.000000     1.000000     4.000000     4.000000\n",
       "50%      41.000000     2.000000     7.000000     8.000000\n",
       "75%      71.000000     3.000000    15.000000    15.000000\n",
       "max    2624.000000    74.000000   979.000000   505.000000"
      ]
     },
     "execution_count": 4,
     "metadata": {},
     "output_type": "execute_result"
    }
   ],
   "source": [
    "entity_summary_df[['ORG','LOC','PERSON','GPE']].describe()"
   ]
  },
  {
   "cell_type": "code",
   "execution_count": 5,
   "metadata": {},
   "outputs": [
    {
     "data": {
      "text/plain": [
       "2624.0"
      ]
     },
     "execution_count": 5,
     "metadata": {},
     "output_type": "execute_result"
    }
   ],
   "source": [
    "entity_summary_df['ORG'].max()"
   ]
  },
  {
   "cell_type": "code",
   "execution_count": 6,
   "metadata": {},
   "outputs": [
    {
     "data": {
      "text/plain": [
       "<matplotlib.text.Text at 0x111d43a20>"
      ]
     },
     "execution_count": 6,
     "metadata": {},
     "output_type": "execute_result"
    },
    {
     "data": {
      "image/png": "[encoded data removed]",
      "text/plain": [
       "<matplotlib.figure.Figure at 0x111bfee48>"
      ]
     },
     "metadata": {},
     "output_type": "display_data"
    }
   ],
   "source": [
    "#Display barplot of count on these four entities\n",
    "import numpy as np\n",
    "import seaborn as sns\n",
    "import matplotlib.pyplot as plt\n",
    "%matplotlib inline \n",
    "\n",
    "# Set up the matplotlib figure\n",
    "f, ax1 = plt.subplots(1, 1, figsize=(8, 6), sharex=True)\n",
    "\n",
    "# Display bargraph \n",
    "x = np.array(['LOC','GPE','PERSON','ORG'])\n",
    "y1 = np.array([entity_summary_df['LOC'].max(), \n",
    "               entity_summary_df['GPE'].max(),\n",
    "               entity_summary_df['PERSON'].max(),\n",
    "               entity_summary_df['ORG'].max()])\n",
    "sns.barplot(x, y1, palette=\"Set3\", ax=ax1)\n",
    "ax1.set_title('Hospital Site Entity Count')\n",
    "ax1.set_ylabel(\"Count\")"
   ]
  },
  {
   "cell_type": "markdown",
   "metadata": {},
   "source": [
    "The most common word per average on site are ORGs with a mean of 58\n",
    "It is followed by a Person at 15 and then mentioned of a country city and state with 14\n"
   ]
  },
  {
   "cell_type": "code",
   "execution_count": 7,
   "metadata": {},
   "outputs": [
    {
     "data": {
      "text/html": [
       "<div>\n",
       "<style scoped>\n",
       "    .dataframe tbody tr th:only-of-type {\n",
       "        vertical-align: middle;\n",
       "    }\n",
       "\n",
       "    .dataframe tbody tr th {\n",
       "        vertical-align: top;\n",
       "    }\n",
       "\n",
       "    .dataframe thead th {\n",
       "        text-align: right;\n",
       "    }\n",
       "</style>\n",
       "<table border=\"1\" class=\"dataframe\">\n",
       "  <thead>\n",
       "    <tr style=\"text-align: right;\">\n",
       "      <th></th>\n",
       "      <th>URL</th>\n",
       "      <th>ADJ</th>\n",
       "      <th>ADP</th>\n",
       "      <th>ADV</th>\n",
       "      <th>CCONJ</th>\n",
       "      <th>DET</th>\n",
       "      <th>NOUN</th>\n",
       "      <th>NUM</th>\n",
       "      <th>PART</th>\n",
       "      <th>PRON</th>\n",
       "      <th>PUNCT</th>\n",
       "      <th>SYM</th>\n",
       "      <th>VERB</th>\n",
       "    </tr>\n",
       "  </thead>\n",
       "  <tbody>\n",
       "    <tr>\n",
       "      <th>0</th>\n",
       "      <td>TIRR.memorialhermann.org</td>\n",
       "      <td>individual\\nwhich\\nsolid\\nmore\\npassionate\\nin...</td>\n",
       "      <td>Like\\nby\\nas\\nFOR\\nAs\\nAt\\nbehind\\nto\\nalong\\n...</td>\n",
       "      <td>purely\\nthen\\nwhen\\nnow\\njust\\nonly\\nonline\\nw...</td>\n",
       "      <td>&amp;\\nOR\\nor\\nAND\\nand</td>\n",
       "      <td>a\\nan\\neach\\nThe\\nA\\nthose\\nALL\\nAll\\nthe\\nall...</td>\n",
       "      <td>outpatient\\nmen\\naddress\\ngoals\\ndevelopments\\...</td>\n",
       "      <td>6\\nfour\\n1,000\\n800\\n2016\\n29\\n44-REHAB\\n2018\\...</td>\n",
       "      <td>to\\n's\\nUP\\nup</td>\n",
       "      <td>they\\nThey\\nus\\nUs\\nWe\\nthem\\nyou\\nshe</td>\n",
       "      <td>)\\n-\\n*\\n.\\n'\\n(\\n,\\n:\\n\"\\nb</td>\n",
       "      <td>#\\n/\\n=</td>\n",
       "      <td>address\\nSee\\ncan\\nreach\\nproviding\\nremembers...</td>\n",
       "    </tr>\n",
       "    <tr>\n",
       "      <th>1</th>\n",
       "      <td>acadianmedicalcenter.com</td>\n",
       "      <td>national\\nearliest\\nMy\\nhealthier\\nOur\\ncancer...</td>\n",
       "      <td>About\\nto\\nfor\\nby\\nwithout\\nat\\nAt\\nof</td>\n",
       "      <td>Learn\\nHow\\nmost\\nMore</td>\n",
       "      <td>and\\n&amp;\\nor</td>\n",
       "      <td>a\\nA\\nAll\\nthe\\nall\\nthis</td>\n",
       "      <td>Visitors\\nTime\\ntechnology\\nContact\\ntime\\nCop...</td>\n",
       "      <td>5-STAR\\n3501\\n2016\\n19\\nFive\\n7500\\n3\\n5\\n2\\n3...</td>\n",
       "      <td>to\\n's</td>\n",
       "      <td>Us\\nWe\\nIt\\nYou\\nyou\\nit\\nwe</td>\n",
       "      <td>)\\n?\\n-\\n.\\n(\\n,\\n:\\n\"\\nb\\n!</td>\n",
       "      <td>-</td>\n",
       "      <td>is\\nEARN\\n're\\nFind\\nspot\\nAre\\nReserved\\ncalc...</td>\n",
       "    </tr>\n",
       "    <tr>\n",
       "      <th>2</th>\n",
       "      <td>amglafayette.com</td>\n",
       "      <td>Our\\ntheir\\naggressive\\ntherapeutic\\nhigh\\nind...</td>\n",
       "      <td>About\\nthrough\\nto\\nfor\\nas\\nwith\\nof\\nin</td>\n",
       "      <td>multi\\nas\\nwell\\nb'&lt;style\\nMore</td>\n",
       "      <td>and</td>\n",
       "      <td>a\\neach\\nAll\\nthe\\nAn\\nthis</td>\n",
       "      <td>Respiratory\\nStatement\\nhospitals\\nTime\\n\\xe2\\...</td>\n",
       "      <td>1\\ntwo\\n18</td>\n",
       "      <td>to\\nTO</td>\n",
       "      <td>WE\\nUs\\nWe</td>\n",
       "      <td>/style\\n;\\n)\\n-\\ninvolvement.\\xc2\\xa0\\n.wpb_an...</td>\n",
       "      <td>/</td>\n",
       "      <td>is\\nspecializes\\naccomplish\\nensures\\nincludes...</td>\n",
       "    </tr>\n",
       "    <tr>\n",
       "      <th>3</th>\n",
       "      <td>anadarkohospital.com</td>\n",
       "      <td>which\\nmore\\nsocial\\ntrue\\nSecure\\nongoing\\nth...</td>\n",
       "      <td>About\\nthrough\\nto\\nBecause\\nabout\\nwhile\\nfor...</td>\n",
       "      <td>fiscally\\nhow\\npublicly\\nNOW\\ncontinually\\nmos...</td>\n",
       "      <td>and\\nor</td>\n",
       "      <td>a\\nThe\\nevery\\neach\\nthe\\nall\\nthis\\nany</td>\n",
       "      <td>need\\npriority\\nrange\\nsuggestions\\nStatement\\...</td>\n",
       "      <td>247\\n1002\\n8258\\n2551\\n1978\\n10\\none\\n3\\n73005...</td>\n",
       "      <td>to\\n'\\nout</td>\n",
       "      <td>they\\nWe\\nyou\\nit\\nwe</td>\n",
       "      <td>)\\n-\\n.\\n(\\n,\\n:\\n\"\\nb</td>\n",
       "      <td>-</td>\n",
       "      <td>Needs\\ncontributes\\nwaiting\\nreporting\\nhelp\\n...</td>\n",
       "    </tr>\n",
       "    <tr>\n",
       "      <th>4</th>\n",
       "      <td>anchorhospital.com</td>\n",
       "      <td>mental\\nliable\\nfree\\nlimited\\nUs\\nthat\\naddic...</td>\n",
       "      <td>About\\nto\\nfor\\ndue\\nABOUT\\nby\\nwith\\ninto\\nfr...</td>\n",
       "      <td>more\\nRead\\nsimply\\nb'&lt;style\\nnot</td>\n",
       "      <td>and\\n&amp;\\nor\\nbut</td>\n",
       "      <td>Those\\na\\nThe\\nan\\nAll\\nthe\\nany</td>\n",
       "      <td>employees\\npractitioners\\nfacility\\nContact\\nr...</td>\n",
       "      <td>122-bed\\n\\xe2\\x80\\x93\\n7\\ntwo\\n5454\\n770\\n2017...</td>\n",
       "      <td>to</td>\n",
       "      <td>Us</td>\n",
       "      <td>/style\\n;\\n-\\n.wpb_animate_when_almost_visible...</td>\n",
       "      <td>-\\n/\\n=</td>\n",
       "      <td>walking\\nhidden\"&gt;&lt;/iframe\\nshown\\nreserved\\nca...</td>\n",
       "    </tr>\n",
       "  </tbody>\n",
       "</table>\n",
       "</div>"
      ],
      "text/plain": [
       "                        URL  \\\n",
       "0  TIRR.memorialhermann.org   \n",
       "1  acadianmedicalcenter.com   \n",
       "2          amglafayette.com   \n",
       "3      anadarkohospital.com   \n",
       "4        anchorhospital.com   \n",
       "\n",
       "                                                 ADJ  \\\n",
       "0  individual\\nwhich\\nsolid\\nmore\\npassionate\\nin...   \n",
       "1  national\\nearliest\\nMy\\nhealthier\\nOur\\ncancer...   \n",
       "2  Our\\ntheir\\naggressive\\ntherapeutic\\nhigh\\nind...   \n",
       "3  which\\nmore\\nsocial\\ntrue\\nSecure\\nongoing\\nth...   \n",
       "4  mental\\nliable\\nfree\\nlimited\\nUs\\nthat\\naddic...   \n",
       "\n",
       "                                                 ADP  \\\n",
       "0  Like\\nby\\nas\\nFOR\\nAs\\nAt\\nbehind\\nto\\nalong\\n...   \n",
       "1            About\\nto\\nfor\\nby\\nwithout\\nat\\nAt\\nof   \n",
       "2          About\\nthrough\\nto\\nfor\\nas\\nwith\\nof\\nin   \n",
       "3  About\\nthrough\\nto\\nBecause\\nabout\\nwhile\\nfor...   \n",
       "4  About\\nto\\nfor\\ndue\\nABOUT\\nby\\nwith\\ninto\\nfr...   \n",
       "\n",
       "                                                 ADV                CCONJ  \\\n",
       "0  purely\\nthen\\nwhen\\nnow\\njust\\nonly\\nonline\\nw...  &\\nOR\\nor\\nAND\\nand   \n",
       "1                             Learn\\nHow\\nmost\\nMore           and\\n&\\nor   \n",
       "2                    multi\\nas\\nwell\\nb'<style\\nMore                  and   \n",
       "3  fiscally\\nhow\\npublicly\\nNOW\\ncontinually\\nmos...              and\\nor   \n",
       "4                  more\\nRead\\nsimply\\nb'<style\\nnot      and\\n&\\nor\\nbut   \n",
       "\n",
       "                                                 DET  \\\n",
       "0  a\\nan\\neach\\nThe\\nA\\nthose\\nALL\\nAll\\nthe\\nall...   \n",
       "1                          a\\nA\\nAll\\nthe\\nall\\nthis   \n",
       "2                        a\\neach\\nAll\\nthe\\nAn\\nthis   \n",
       "3           a\\nThe\\nevery\\neach\\nthe\\nall\\nthis\\nany   \n",
       "4                   Those\\na\\nThe\\nan\\nAll\\nthe\\nany   \n",
       "\n",
       "                                                NOUN  \\\n",
       "0  outpatient\\nmen\\naddress\\ngoals\\ndevelopments\\...   \n",
       "1  Visitors\\nTime\\ntechnology\\nContact\\ntime\\nCop...   \n",
       "2  Respiratory\\nStatement\\nhospitals\\nTime\\n\\xe2\\...   \n",
       "3  need\\npriority\\nrange\\nsuggestions\\nStatement\\...   \n",
       "4  employees\\npractitioners\\nfacility\\nContact\\nr...   \n",
       "\n",
       "                                                 NUM            PART  \\\n",
       "0  6\\nfour\\n1,000\\n800\\n2016\\n29\\n44-REHAB\\n2018\\...  to\\n's\\nUP\\nup   \n",
       "1  5-STAR\\n3501\\n2016\\n19\\nFive\\n7500\\n3\\n5\\n2\\n3...          to\\n's   \n",
       "2                                         1\\ntwo\\n18          to\\nTO   \n",
       "3  247\\n1002\\n8258\\n2551\\n1978\\n10\\none\\n3\\n73005...      to\\n'\\nout   \n",
       "4  122-bed\\n\\xe2\\x80\\x93\\n7\\ntwo\\n5454\\n770\\n2017...              to   \n",
       "\n",
       "                                     PRON  \\\n",
       "0  they\\nThey\\nus\\nUs\\nWe\\nthem\\nyou\\nshe   \n",
       "1            Us\\nWe\\nIt\\nYou\\nyou\\nit\\nwe   \n",
       "2                              WE\\nUs\\nWe   \n",
       "3                   they\\nWe\\nyou\\nit\\nwe   \n",
       "4                                      Us   \n",
       "\n",
       "                                               PUNCT      SYM  \\\n",
       "0                       )\\n-\\n*\\n.\\n'\\n(\\n,\\n:\\n\"\\nb  #\\n/\\n=   \n",
       "1                       )\\n?\\n-\\n.\\n(\\n,\\n:\\n\"\\nb\\n!        -   \n",
       "2  /style\\n;\\n)\\n-\\ninvolvement.\\xc2\\xa0\\n.wpb_an...        /   \n",
       "3                             )\\n-\\n.\\n(\\n,\\n:\\n\"\\nb        -   \n",
       "4  /style\\n;\\n-\\n.wpb_animate_when_almost_visible...  -\\n/\\n=   \n",
       "\n",
       "                                                VERB  \n",
       "0  address\\nSee\\ncan\\nreach\\nproviding\\nremembers...  \n",
       "1  is\\nEARN\\n're\\nFind\\nspot\\nAre\\nReserved\\ncalc...  \n",
       "2  is\\nspecializes\\naccomplish\\nensures\\nincludes...  \n",
       "3  Needs\\ncontributes\\nwaiting\\nreporting\\nhelp\\n...  \n",
       "4  walking\\nhidden\"></iframe\\nshown\\nreserved\\nca...  "
      ]
     },
     "execution_count": 7,
     "metadata": {},
     "output_type": "execute_result"
    }
   ],
   "source": [
    "tokens_bysite_df.head()"
   ]
  },
  {
   "cell_type": "markdown",
   "metadata": {},
   "source": [
    "#### Most number of people (PERSON) mentioned on a site\n",
    "\n",
    "CookChildrens.org had a 979 people named on their site. This seems a little too much for a main page, let's explore some of the data."
   ]
  },
  {
   "cell_type": "code",
   "execution_count": 10,
   "metadata": {},
   "outputs": [
    {
     "data": {
      "text/plain": [
       "['Blake',\n",
       " 'MD Prosanti',\n",
       " 'Download',\n",
       " 'Rafati',\n",
       " 'Julia',\n",
       " 'MD Watts',\n",
       " 'MD Simpson',\n",
       " 'Jeremy',\n",
       " 'Dara',\n",
       " 'Sami',\n",
       " 'MD Vert',\n",
       " 'Christina',\n",
       " 'Laura',\n",
       " 'MD Tapper',\n",
       " 'MD Murray',\n",
       " 'MD Radimecky',\n",
       " 'Lisa',\n",
       " 'MD Allender',\n",
       " 'MD Ansley']"
      ]
     },
     "execution_count": 10,
     "metadata": {},
     "output_type": "execute_result"
    }
   ],
   "source": [
    "#Extract cookchildrens.org site information\n",
    "cookchildrens = entity_bysite_df[entity_bysite_df['URL'] == \"www.cookchildrens.org\"]\n",
    "#Get list of names under person\n",
    "#Show first 20\n",
    "cookchildrens['PERSON'].values[0].split(\"\\n\")[1:20]\n",
    "\n"
   ]
  },
  {
   "cell_type": "markdown",
   "metadata": {},
   "source": [
    "This site uses facebook tiles throughout the main page. Each post contains information about a person or a doctor This explains the large amount of mentions of people in this site"
   ]
  },
  {
   "cell_type": "markdown",
   "metadata": {},
   "source": [
    "#### Most number of organizations (ORG) mentioned on a site\n",
    "Ocalahealthsystem.com had a 2,223 words that can be related to an organization named on their site. Let's explore some of the data."
   ]
  },
  {
   "cell_type": "code",
   "execution_count": 11,
   "metadata": {},
   "outputs": [
    {
     "data": {
      "text/plain": [
       "['Community',\n",
       " 'Time',\n",
       " 'Bariatrics Program',\n",
       " 'News',\n",
       " 'Ortho Pre-Op Class Apr 24',\n",
       " 'Ocala Health     Are Household Cleaning Products',\n",
       " 'Bariatric Support Group',\n",
       " 'Affiliated Practices       Services    Services',\n",
       " 'Ocala Regional Medical Center',\n",
       " 'Wellness Community Center',\n",
       " 'CPR',\n",
       " 'Hospital Affiliation',\n",
       " 'HCA North Florida Division',\n",
       " 'Ocala Health Unit',\n",
       " 'Community Hospital',\n",
       " 'Graduate Medical Education',\n",
       " 'Patient Portal',\n",
       " 'the American College of Radiology',\n",
       " 'Pre-Register',\n",
       " 'More',\n",
       " 'RN-C',\n",
       " 'Search               Search',\n",
       " 'Blog Articles',\n",
       " 'Time',\n",
       " 'Orthopedic Joint Care Center',\n",
       " 'Legal Information',\n",
       " 'Social Media',\n",
       " 'Insurance Plans  Maps & Directions',\n",
       " 'UOD']"
      ]
     },
     "execution_count": 11,
     "metadata": {},
     "output_type": "execute_result"
    }
   ],
   "source": [
    "#Extract cookchildrens.org site information\n",
    "ocala = entity_bysite_df[entity_bysite_df['URL'] == \"ocalahealthsystem.com\"]\n",
    "#Get list of names under person\n",
    "#Show first 20\n",
    "ocala['ORG'].values[0].split(\"\\n\")[1:30]\n"
   ]
  },
  {
   "cell_type": "markdown",
   "metadata": {},
   "source": [
    "This is one example that sometimes NLP needs to be trained to specific domain. In this case, there's a large amount of false positives. Items that anything that could not be identified in other categories is put as an ORG.  Interesting, a lot of the common links such as 'Social Media', 'Legal Information' were missclassified as ORGs."
   ]
  },
  {
   "cell_type": "markdown",
   "metadata": {},
   "source": [
    "#### Most locations (LOC) mentioned on a site\n",
    "\n",
    "www.osceolaregional.com had a 74 locations named on their site. Let's explore some of the data."
   ]
  },
  {
   "cell_type": "code",
   "execution_count": 12,
   "metadata": {},
   "outputs": [
    {
     "data": {
      "text/plain": [
       "['TAVR Program',\n",
       " 'News',\n",
       " 'Lake City Medical Center',\n",
       " 'Graduate Medical Education',\n",
       " 'Emergency Department',\n",
       " 'Stroke Support Group',\n",
       " 'Pre-Register',\n",
       " 'Blog Articles',\n",
       " 'Social Media',\n",
       " 'C-HCA',\n",
       " 'HCA  Healthcare',\n",
       " 'Rehabilitation / Physical Therapy',\n",
       " 'Trauma Care , Pediatric ER',\n",
       " 'Blog',\n",
       " 'Classes & Events',\n",
       " 'Newsroom  Quality & Patient Safety  Volunteers',\n",
       " 'Pediatrics Dept',\n",
       " 'West Florida Hospital',\n",
       " 'Corporation of America']"
      ]
     },
     "execution_count": 12,
     "metadata": {},
     "output_type": "execute_result"
    }
   ],
   "source": [
    "#Extract OsceolaRegional site information\n",
    "osceolaregional = entity_bysite_df[entity_bysite_df['URL'] == \"www.osceolaregional.com\"]\n",
    "#Get list of names under person\n",
    "#Show first 20\n",
    "osceolaregional['ORG'].values[0].split(\"\\n\")[1:20]\n"
   ]
  },
  {
   "cell_type": "markdown",
   "metadata": {},
   "source": [
    "Another case of a lot of false positives, but there are some locations that were correctly identified. 'Lake City Medical Center', 'Emergency Department', 'West Florida Hospital' for instance. "
   ]
  },
  {
   "cell_type": "markdown",
   "metadata": {},
   "source": [
    "#### Most country, city or state (GPE) mentioned on a site\n",
    "\n",
    "www.nchosp.org had a 505 country, city of state named on their site. Let's explore some of the data."
   ]
  },
  {
   "cell_type": "code",
   "execution_count": 13,
   "metadata": {},
   "outputs": [
    {
     "data": {
      "text/plain": [
       "['-82.792168',\n",
       " 'WMA Occupational Medicine',\n",
       " 'The Wellness Center - Elizabethton',\n",
       " 'Medical Services',\n",
       " 'The Wellness Center - Johnson City',\n",
       " 'Imaging Centers',\n",
       " '-82.090863999999996',\n",
       " 'Map & Directions',\n",
       " 'NE Norton']"
      ]
     },
     "execution_count": 13,
     "metadata": {},
     "output_type": "execute_result"
    }
   ],
   "source": [
    "#Extract www.nchosp.org  site information\n",
    "nchosp = entity_bysite_df[entity_bysite_df['URL'] == \"www.nchosp.org\"]\n",
    "#Get list of names under person\n",
    "#Show first 20\n",
    "nchosp['ORG'].values[0].split(\"\\n\")[1:10]\n"
   ]
  },
  {
   "cell_type": "markdown",
   "metadata": {},
   "source": [
    "Looking at the list, there are a lot of coordinates that were correctly matched with a GPE. The source code of the page can be seen to have all locations mentioned Google Map coordinates (lat, log), and this is why it is the site with most GPEs on it. "
   ]
  },
  {
   "cell_type": "markdown",
   "metadata": {},
   "source": [
    "#### Most product mentioned on a site\n",
    "\n",
    "www.ocalaregional.com had a 469 mentioned of product. Let's explore some of the data."
   ]
  },
  {
   "cell_type": "code",
   "execution_count": 14,
   "metadata": {},
   "outputs": [
    {
     "data": {
      "text/plain": [
       "['Apr 19',\n",
       " 'Apr 2 Monday',\n",
       " 'Apr 9 Monday',\n",
       " 'Apr 30',\n",
       " 'Apr 23',\n",
       " 'Apr 2 Monday Ortho Pre-Op Class Apr 2',\n",
       " 'Apr 4',\n",
       " 'Apr 24',\n",
       " 'Apr 11',\n",
       " 'Apr 5',\n",
       " 'Apr 26',\n",
       " 'Apr 10',\n",
       " 'Apr 18',\n",
       " 'Apr 3',\n",
       " 'Apr 16',\n",
       " 'Apr 9 Monday Ortho Pre-Op Class Apr 9',\n",
       " 'Apr 25']"
      ]
     },
     "execution_count": 14,
     "metadata": {},
     "output_type": "execute_result"
    }
   ],
   "source": [
    "#Extract cookchildrens.org site information\n",
    "ocala = entity_bysite_df[entity_bysite_df['URL'] == \"www.ocalaregional.com\"]\n",
    "#Get list of names under person\n",
    "#Show first 20\n",
    "ocala['PRODUCT'].values[0].split(\"\\n\")[1:300]\n",
    "#Somethign is not right about these numbers as it should have been 469 (unless they are repeated)"
   ]
  },
  {
   "cell_type": "markdown",
   "metadata": {},
   "source": [
    "#### Most work of art mentioned on a site\n",
    "\n",
    "www.capitalregionalmedicalcenter.com had 230 mentions of work of art. Let's explore some of the data."
   ]
  },
  {
   "cell_type": "code",
   "execution_count": 15,
   "metadata": {},
   "outputs": [
    {
     "data": {
      "text/plain": [
       "['are:1 - Countdown To Baby2',\n",
       " 'Visitor Information',\n",
       " 'Prenatal Breastfeeding Class',\n",
       " 'are:1 - Countdown',\n",
       " 'Capital Regional Medical Center',\n",
       " 'Jul',\n",
       " 'Patient Stories',\n",
       " 'MyHealth One',\n",
       " 'Family Center Tour',\n",
       " 'Pay Bill Online']"
      ]
     },
     "execution_count": 15,
     "metadata": {},
     "output_type": "execute_result"
    }
   ],
   "source": [
    "#Extract cookchildrens.org site information\n",
    "capitalregional = entity_bysite_df[entity_bysite_df['URL'] == \"www.capitalregionalmedicalcenter.com\"]\n",
    "#Get list of names under person\n",
    "#Show first 20\n",
    "capitalregional['WORK_OF_ART'].values[0].split(\"\\n\")[1:300]\n",
    "#Something is not right as the results marked 230"
   ]
  },
  {
   "cell_type": "markdown",
   "metadata": {},
   "source": [
    "#### Let's look now at the Verbs on pages\n",
    "\n",
    "ocalahealthsystem.com had 16,370 VERBS, which seems a little too much, let's look at the data.\n",
    "Most of them are repeated, only 156 uniques.\n",
    "\n",
    "The way the page is built, it stores a lot of its content on the HTML of the page to prevent from loading, but this loads the HTML with lots of unseen text."
   ]
  },
  {
   "cell_type": "code",
   "execution_count": 16,
   "metadata": {},
   "outputs": [
    {
     "data": {
      "text/plain": [
       "['Are',\n",
       " 'can',\n",
       " 'include',\n",
       " 'having',\n",
       " 'approved',\n",
       " 'announces',\n",
       " 'sound',\n",
       " 'Save',\n",
       " 'represents',\n",
       " 'operating',\n",
       " 'earned',\n",
       " 'harm',\n",
       " 'lose',\n",
       " 'awarded',\n",
       " 'visit',\n",
       " 'cook',\n",
       " 'perform',\n",
       " 'have',\n",
       " 'moving',\n",
       " 'stay',\n",
       " 'comprised',\n",
       " 'Let',\n",
       " 'meet',\n",
       " 'living',\n",
       " 'will',\n",
       " 'located',\n",
       " 'become',\n",
       " 'provides',\n",
       " 'freestanding',\n",
       " 'ensuring',\n",
       " 'keep',\n",
       " 'diagnosing',\n",
       " 'recognizes',\n",
       " 'arrive',\n",
       " 'care',\n",
       " 'represent',\n",
       " 'teach',\n",
       " 'affect',\n",
       " 'Do',\n",
       " 'Make',\n",
       " 'celebrate',\n",
       " 'maintaining',\n",
       " 'STRIVE',\n",
       " 'defend',\n",
       " 'connecting',\n",
       " 'registered',\n",
       " 'urged',\n",
       " 'do',\n",
       " 'Follow',\n",
       " 'use',\n",
       " \"we\\\\'re\",\n",
       " 'start',\n",
       " 'scheduled',\n",
       " 'happens',\n",
       " 'face',\n",
       " 'take',\n",
       " 'practice',\n",
       " 'Getting',\n",
       " 'Understanding',\n",
       " 'offers',\n",
       " 'Experiencing',\n",
       " 'serve',\n",
       " 'Read',\n",
       " 'involve',\n",
       " 'Come',\n",
       " 'stand',\n",
       " 'Find',\n",
       " 'excited',\n",
       " 'including',\n",
       " 'loved',\n",
       " 'making',\n",
       " 'empower',\n",
       " 'help',\n",
       " 'Recognized',\n",
       " 'allows',\n",
       " 'fr\\\\xe2\\\\x80\\\\xa6',\n",
       " 'Learn',\n",
       " 'adding',\n",
       " 'bringing',\n",
       " 'rid',\n",
       " 'learn',\n",
       " 'be',\n",
       " 'Is',\n",
       " 'subscribed',\n",
       " 'find',\n",
       " 'Take',\n",
       " 'encompasses',\n",
       " 'play',\n",
       " 'growing',\n",
       " 'been',\n",
       " 'Have',\n",
       " 'May',\n",
       " 'eat',\n",
       " 'make',\n",
       " 'affects',\n",
       " 'offer',\n",
       " 'Thank',\n",
       " 'know',\n",
       " 'discuss',\n",
       " 'may',\n",
       " 'Pay',\n",
       " 'Join',\n",
       " \"'s\",\n",
       " 'expect',\n",
       " 'estimated',\n",
       " 'am',\n",
       " 'has',\n",
       " 'save',\n",
       " 'happening',\n",
       " 'trained',\n",
       " 'tried',\n",
       " 'ease',\n",
       " 'success?Join',\n",
       " 'demonstrated',\n",
       " 'provide',\n",
       " 'Wait',\n",
       " 'reserved',\n",
       " 'stop',\n",
       " 'thank',\n",
       " 'winning',\n",
       " 'Get',\n",
       " 'Bring',\n",
       " 'protect',\n",
       " 'accredited',\n",
       " 'treating',\n",
       " 'dedicated',\n",
       " '\\\\xe2\\\\x80\\\\x94',\n",
       " 'skip',\n",
       " 'Help',\n",
       " 'completed',\n",
       " 'believe',\n",
       " 'ensure',\n",
       " 'tackle',\n",
       " 'recognized',\n",
       " 'facilitated',\n",
       " 'Beat',\n",
       " 'should',\n",
       " 'considering',\n",
       " 'shows',\n",
       " 'want',\n",
       " 'done',\n",
       " 'is',\n",
       " 'handle',\n",
       " 'are',\n",
       " 'hidden',\n",
       " 'managing',\n",
       " 'using',\n",
       " \"don\\\\'t\",\n",
       " 'Sign',\n",
       " 'work',\n",
       " 'might',\n",
       " 'entitle',\n",
       " 'join',\n",
       " 'Did',\n",
       " 'Opens',\n",
       " 'receive']"
      ]
     },
     "execution_count": 16,
     "metadata": {},
     "output_type": "execute_result"
    }
   ],
   "source": [
    "#Extract cookchildrens.org site information\n",
    "ocalahealth = tokens_bysite_df[entity_bysite_df['URL'] == \"ocalahealthsystem.com\"]\n",
    "#Get list of names under person\n",
    "#Show first 20\n",
    "ocalahealth['VERB'].values[0].split(\"\\n\")[1:300]"
   ]
  },
  {
   "cell_type": "markdown",
   "metadata": {},
   "source": [
    "#### Largest number of adjectives\n",
    "\n",
    "ocalahealthsystem.com had 15,138 ADJS on its page as well. Like the VERBS, a lot of it it's hidden from view.\n",
    "\n"
   ]
  },
  {
   "cell_type": "code",
   "execution_count": 17,
   "metadata": {},
   "outputs": [
    {
     "data": {
      "text/plain": [
       "['new',\n",
       " 'finest',\n",
       " 'https://t.co/igzj6fno6e',\n",
       " 'Acceptable',\n",
       " 'active',\n",
       " 'worst',\n",
       " 'many',\n",
       " 'annual',\n",
       " 'monthly',\n",
       " 'long:\\\\xe2\\\\x80\\\\xa6',\n",
       " 'toxic',\n",
       " 'aware',\n",
       " 'Silver',\n",
       " 'orthopedic',\n",
       " 'situational',\n",
       " 'Safe',\n",
       " '2-day',\n",
       " 'surgical',\n",
       " 'present']"
      ]
     },
     "execution_count": 17,
     "metadata": {},
     "output_type": "execute_result"
    }
   ],
   "source": [
    "#Extract cookchildrens.org site information\n",
    "ocalahealth = tokens_bysite_df[entity_bysite_df['URL'] == \"ocalahealthsystem.com\"]\n",
    "#Get list of names under person\n",
    "#Show first 20\n",
    "ocalahealth['ADJ'].values[0].split(\"\\n\")[1:20]\n",
    "#It has 104 unique"
   ]
  },
  {
   "cell_type": "markdown",
   "metadata": {},
   "source": [
    "#### Largest number of pronouns\n",
    "\n",
    "ocalahealthsystem.com had also the largest number of pronouns on its page, 5,460."
   ]
  },
  {
   "cell_type": "markdown",
   "metadata": {},
   "source": [
    "#Extract cookchildrens.org site information\n",
    "ocalahealth = tokens_bysite_df[entity_bysite_df['URL'] == \"ocalahealthsystem.com\"]\n",
    "#Get list of names under person\n",
    "#Show first 20\n",
    "ocalahealth['PRON'].values[0].split(\"\\n\")[1:20]\n",
    "#It has 104 unique"
   ]
  },
  {
   "cell_type": "markdown",
   "metadata": {},
   "source": [
    "#### Most commont PRON, ADJ and VERBS\n",
    "\n",
    "Let's take a look at the most common terms for each category"
   ]
  },
  {
   "cell_type": "code",
   "execution_count": 18,
   "metadata": {},
   "outputs": [
    {
     "name": "stdout",
     "output_type": "stream",
     "text": [
      "['best', 'free', 'healthy', 'available', 'comprehensive', 'full', 'high', 'first', 'latest', 'many']\n",
      "[1248, 965, 963, 929, 886, 866, 829, 824, 799, 797]\n"
     ]
    },
    {
     "data": {
      "text/plain": [
       "<matplotlib.text.Text at 0x111ed1e48>"
      ]
     },
     "execution_count": 18,
     "metadata": {},
     "output_type": "execute_result"
    },
    {
     "data": {
      "image/png": "[encoded data removed]",
      "text/plain": [
       "<matplotlib.figure.Figure at 0x111d62ef0>"
      ]
     },
     "metadata": {},
     "output_type": "display_data"
    }
   ],
   "source": [
    "#Parse through all and show most common\n",
    "from  collections import Counter\n",
    "adj_counter = Counter()\n",
    "for adj in tokens_bysite_df['ADJ']:\n",
    "    try:\n",
    "        adj_list = adj.split(\"\\n\")\n",
    "        for a in adj_list:\n",
    "            #Ignore some that are incorrectly classified:\n",
    "            if(a.lower() not in ['our', 'your', 'main', 'more', 'medical', 'its', 'my', 'that', 'their', 'new', 'other']):\n",
    "                adj_counter[a.lower()] += 1\n",
    "    except:\n",
    "        #Ignore those that are not str\n",
    "        pass\n",
    "adj_counter.most_common(10)\n",
    "\n",
    "most_common_labels = []\n",
    "most_common_count  = []\n",
    "\n",
    "for m in adj_counter.most_common(10):\n",
    "    most_common_labels.append(m[0])\n",
    "    most_common_count.append(m[1])\n",
    "print(most_common_labels)\n",
    "print(most_common_count)\n",
    "    \n",
    "#Display Graph\n",
    "# Set up the matplotlib figure\n",
    "    \n",
    "f, ax1 = plt.subplots(1, 1, figsize=(8, 6), sharex=True)\n",
    "\n",
    "x = np.array(most_common_labels)\n",
    "y1 = np.array(most_common_count)\n",
    "sns.barplot(x, y1, palette=\"Set3\", ax=ax1)\n",
    "ax1.set_title('Top most Adjectives')\n",
    "ax1.set_xticklabels(x,rotation=90)\n",
    "ax1.set_ylabel(\"Count\")"
   ]
  },
  {
   "cell_type": "code",
   "execution_count": null,
   "metadata": {},
   "outputs": [],
   "source": [
    "#Show the ones that contain the word 'free'\n",
    "for k,v in tokens_bysite_df['ADJ'].items():\n",
    "    if('comprehensive' in v):\n",
    "        print(k)\n",
    "        print(tokens_bysite_df['URL'])\n"
   ]
  },
  {
   "cell_type": "code",
   "execution_count": null,
   "metadata": {},
   "outputs": [],
   "source": [
    "#Show the verbs containing the word 'free'\n",
    "for k,v in tokens_bysite_df['PRON'].items():\n",
    "    if('you' in v):\n",
    "        print(k)\n",
    "        print(tokens_bysite_df['URL'])"
   ]
  },
  {
   "cell_type": "code",
   "execution_count": null,
   "metadata": {},
   "outputs": [],
   "source": [
    "#Parse through all and show most common\n",
    "from  collections import Counter\n",
    "adj_counter = Counter()\n",
    "for adj in tokens_bysite_df['VERB']:\n",
    "    try:\n",
    "        adj_list = adj.split(\"\\n\")\n",
    "        for a in adj_list:\n",
    "            adj_counter[a.lower()] += 1\n",
    "    except:\n",
    "        #Ignore those that are not str\n",
    "        pass\n",
    "adj_counter.most_common(10)\n",
    "\n",
    "most_common_labels = []\n",
    "most_common_count  = []\n",
    "\n",
    "for m in adj_counter.most_common(10):\n",
    "    most_common_labels.append(m[0])\n",
    "    most_common_count.append(m[1])\n",
    "print(most_common_labels)\n",
    "print(most_common_count)\n",
    "    \n",
    "#Display Graph\n",
    "# Set up the matplotlib figure\n",
    "    \n",
    "f, ax1 = plt.subplots(1, 1, figsize=(8, 6), sharex=True)\n",
    "\n",
    "x = np.array(most_common_labels)\n",
    "y1 = np.array(most_common_count)\n",
    "sns.barplot(x, y1, palette=\"Set3\", ax=ax1)\n",
    "ax1.set_title('Top most Verbs')\n",
    "ax1.set_xticklabels(x,rotation=90)\n",
    "ax1.set_ylabel(\"Count\")"
   ]
  },
  {
   "cell_type": "code",
   "execution_count": null,
   "metadata": {},
   "outputs": [],
   "source": [
    "#Parse through all and show most common\n",
    "from  collections import Counter\n",
    "adj_counter = Counter()\n",
    "for adj in tokens_bysite_df['PRON']:\n",
    "    try:\n",
    "        adj_list = adj.split(\"\\n\")\n",
    "        for a in adj_list:\n",
    "            adj_counter[a.lower()] += 1\n",
    "    except:\n",
    "        #Ignore those that are not str\n",
    "        pass\n",
    "adj_counter.most_common(10)\n",
    "\n",
    "most_common_labels = []\n",
    "most_common_count  = []\n",
    "\n",
    "for m in adj_counter.most_common(10):\n",
    "    most_common_labels.append(m[0])\n",
    "    most_common_count.append(m[1])\n",
    "print(most_common_labels)\n",
    "print(most_common_count)\n",
    "    \n",
    "#Display Graph\n",
    "# Set up the matplotlib figure\n",
    "    \n",
    "f, ax1 = plt.subplots(1, 1, figsize=(8, 6), sharex=True)\n",
    "\n",
    "x = np.array(most_common_labels)\n",
    "y1 = np.array(most_common_count)\n",
    "sns.barplot(x, y1, palette=\"Set3\", ax=ax1)\n",
    "ax1.set_title('Top most Pronouns')\n",
    "ax1.set_xticklabels(x,rotation=90)\n",
    "ax1.set_ylabel(\"Count\")"
   ]
  },
  {
   "cell_type": "markdown",
   "metadata": {},
   "source": [
    "#### Most common Entities\n",
    "Let's take a look at the most common entities for each category"
   ]
  },
  {
   "cell_type": "code",
   "execution_count": null,
   "metadata": {},
   "outputs": [],
   "source": [
    "for e in ['GPE','LOC', 'ORG','PERSON','PRODUCT', 'WORK_OF_ART']:\n",
    "    entity_counter = Counter()\n",
    "    for entity in entity_bysite_df[e]:\n",
    "        try:\n",
    "            entity_list = entity.split(\"\\n\")\n",
    "            for n in entity_list:\n",
    "                if(n):\n",
    "                    entity_counter[n.lower()] += 1\n",
    "        except:\n",
    "            #Ignore those that are not str\n",
    "            pass\n",
    "    print(\"-------- Entity Counter for \"+e+\"-------\")\n",
    "    print(entity_counter.most_common(20))\n",
    "    most_common_labels = []\n",
    "    most_common_count  = []\n",
    "    for m in entity_counter.most_common(10):\n",
    "        most_common_labels.append(m[0])\n",
    "        most_common_count.append(m[1])\n",
    "    print(most_common_labels)\n",
    "    print(most_common_count)\n",
    "    \n",
    "    #Display Graph\n",
    "    # Set up the matplotlib figure\n",
    "    \n",
    "    f, ax1 = plt.subplots(1, 1, figsize=(8, 6), sharex=True)\n",
    "\n",
    "    x = np.array(most_common_labels)\n",
    "    y1 = np.array(most_common_count)\n",
    "    sns.barplot(x, y1, palette=\"Set3\", ax=ax1)\n",
    "    ax1.set_title('Top most '+e)\n",
    "    ax1.set_xticklabels(x,rotation=90)\n",
    "    ax1.set_ylabel(\"Count\")"
   ]
  },
  {
   "cell_type": "markdown",
   "metadata": {},
   "source": [
    "### Most common adjectives for sites with most adjectives on their page\n",
    "\n",
    "Select top 20 hospitals with the most number of adjectives and compute"
   ]
  },
  {
   "cell_type": "code",
   "execution_count": 21,
   "metadata": {},
   "outputs": [],
   "source": [
    "#Create a count of adjective on each site\n",
    "def count_list(row):\n",
    "    l = 0\n",
    "    try :\n",
    "        l = len(row.split(\"\\n\"))\n",
    "    except:\n",
    "        pass\n",
    "    return l\n",
    "\n",
    "tokens_bysite_df['adj_count']=tokens_bysite_df['ADJ'].apply(count_list)"
   ]
  },
  {
   "cell_type": "code",
   "execution_count": null,
   "metadata": {},
   "outputs": [],
   "source": [
    "df.drop([0, 1])"
   ]
  },
  {
   "cell_type": "code",
   "execution_count": 34,
   "metadata": {},
   "outputs": [],
   "source": [
    "# list top sites with the highest nmber of adjective\n",
    "# Ignore first two as the number one is no longer a hospital site, this site needs to be \n",
    "# removed from the list. \n",
    "top_20_hospital_with_most_adj = tokens_bysite_df[['URL','adj_count','ADJ']].sort_values(by=['adj_count'], ascending=False)[2:102]"
   ]
  },
  {
   "cell_type": "code",
   "execution_count": 35,
   "metadata": {},
   "outputs": [
    {
     "data": {
      "text/html": [
       "<div>\n",
       "<style scoped>\n",
       "    .dataframe tbody tr th:only-of-type {\n",
       "        vertical-align: middle;\n",
       "    }\n",
       "\n",
       "    .dataframe tbody tr th {\n",
       "        vertical-align: top;\n",
       "    }\n",
       "\n",
       "    .dataframe thead th {\n",
       "        text-align: right;\n",
       "    }\n",
       "</style>\n",
       "<table border=\"1\" class=\"dataframe\">\n",
       "  <thead>\n",
       "    <tr style=\"text-align: right;\">\n",
       "      <th></th>\n",
       "      <th>URL</th>\n",
       "      <th>adj_count</th>\n",
       "      <th>ADJ</th>\n",
       "    </tr>\n",
       "  </thead>\n",
       "  <tbody>\n",
       "    <tr>\n",
       "      <th>3672</th>\n",
       "      <td>www.tbhcare.com</td>\n",
       "      <td>301</td>\n",
       "      <td>full\\ncapable\\nisoptional\\nwhich\\nindividual\\n...</td>\n",
       "    </tr>\n",
       "    <tr>\n",
       "      <th>2738</th>\n",
       "      <td>www.ormc.org</td>\n",
       "      <td>240</td>\n",
       "      <td>Frisian\\nfull\\nMalagasy\\nwhich\\nunassisted\\nLa...</td>\n",
       "    </tr>\n",
       "    <tr>\n",
       "      <th>3622</th>\n",
       "      <td>www.susquehannahealth.org</td>\n",
       "      <td>208</td>\n",
       "      <td>Allergic\\nRefractive\\nHealthy\\nAutonomic\\nbiop...</td>\n",
       "    </tr>\n",
       "    <tr>\n",
       "      <th>219</th>\n",
       "      <td>susquehannahealth.org</td>\n",
       "      <td>208</td>\n",
       "      <td>Allergic\\nRefractive\\nHealthy\\nAutonomic\\nbiop...</td>\n",
       "    </tr>\n",
       "    <tr>\n",
       "      <th>825</th>\n",
       "      <td>www.charlotteregional.com</td>\n",
       "      <td>182</td>\n",
       "      <td>full\\nskeletal\\nwhich\\nfair\\nregular\\nHealthy\\...</td>\n",
       "    </tr>\n",
       "    <tr>\n",
       "      <th>85</th>\n",
       "      <td>ksmedcenter.com</td>\n",
       "      <td>180</td>\n",
       "      <td>emotional\\nfull\\ncapable\\nwhich\\nstressful\\ngo...</td>\n",
       "    </tr>\n",
       "    <tr>\n",
       "      <th>15</th>\n",
       "      <td>bestheartcare.com</td>\n",
       "      <td>178</td>\n",
       "      <td>full\\nwhich\\nindividual\\ntrue\\ngood\\n5-star\\ne...</td>\n",
       "    </tr>\n",
       "    <tr>\n",
       "      <th>2596</th>\n",
       "      <td>www.nmh.org</td>\n",
       "      <td>178</td>\n",
       "      <td>which\\nstressful\\np&gt;\\nValet\\nsustainable\\nregu...</td>\n",
       "    </tr>\n",
       "    <tr>\n",
       "      <th>1274</th>\n",
       "      <td>www.faithcommunityhospital.com</td>\n",
       "      <td>177</td>\n",
       "      <td>which\\nfair\\nregular\\ntrue\\ngood\\neffective\\nn...</td>\n",
       "    </tr>\n",
       "    <tr>\n",
       "      <th>2594</th>\n",
       "      <td>www.nmbhi.org</td>\n",
       "      <td>165</td>\n",
       "      <td>9-month\\nfull\\nindividual\\nwhich\\nstructured\\n...</td>\n",
       "    </tr>\n",
       "    <tr>\n",
       "      <th>4135</th>\n",
       "      <td>www.yvmc.org</td>\n",
       "      <td>150</td>\n",
       "      <td>full\\nFrisian\\nMalagasy\\nfind\\xe2\\x80\\xa6\\nove...</td>\n",
       "    </tr>\n",
       "  </tbody>\n",
       "</table>\n",
       "</div>"
      ],
      "text/plain": [
       "                                 URL  adj_count  \\\n",
       "3672                 www.tbhcare.com        301   \n",
       "2738                    www.ormc.org        240   \n",
       "3622       www.susquehannahealth.org        208   \n",
       "219            susquehannahealth.org        208   \n",
       "825        www.charlotteregional.com        182   \n",
       "85                   ksmedcenter.com        180   \n",
       "15                 bestheartcare.com        178   \n",
       "2596                     www.nmh.org        178   \n",
       "1274  www.faithcommunityhospital.com        177   \n",
       "2594                   www.nmbhi.org        165   \n",
       "4135                    www.yvmc.org        150   \n",
       "\n",
       "                                                    ADJ  \n",
       "3672  full\\ncapable\\nisoptional\\nwhich\\nindividual\\n...  \n",
       "2738  Frisian\\nfull\\nMalagasy\\nwhich\\nunassisted\\nLa...  \n",
       "3622  Allergic\\nRefractive\\nHealthy\\nAutonomic\\nbiop...  \n",
       "219   Allergic\\nRefractive\\nHealthy\\nAutonomic\\nbiop...  \n",
       "825   full\\nskeletal\\nwhich\\nfair\\nregular\\nHealthy\\...  \n",
       "85    emotional\\nfull\\ncapable\\nwhich\\nstressful\\ngo...  \n",
       "15    full\\nwhich\\nindividual\\ntrue\\ngood\\n5-star\\ne...  \n",
       "2596  which\\nstressful\\np>\\nValet\\nsustainable\\nregu...  \n",
       "1274  which\\nfair\\nregular\\ntrue\\ngood\\neffective\\nn...  \n",
       "2594  9-month\\nfull\\nindividual\\nwhich\\nstructured\\n...  \n",
       "4135  full\\nFrisian\\nMalagasy\\nfind\\xe2\\x80\\xa6\\nove...  "
      ]
     },
     "execution_count": 35,
     "metadata": {},
     "output_type": "execute_result"
    }
   ],
   "source": [
    "top_20_hospital_with_most_adj.head(11)"
   ]
  },
  {
   "cell_type": "code",
   "execution_count": 33,
   "metadata": {},
   "outputs": [
    {
     "name": "stdout",
     "output_type": "stream",
     "text": [
      "['best', 'many', 'free', 'first', 'better', 'which', 'full', 'surgical', 'available', 'high']\n",
      "[78, 70, 65, 63, 63, 60, 59, 55, 53, 53]\n"
     ]
    },
    {
     "data": {
      "text/plain": [
       "<matplotlib.text.Text at 0x112256ba8>"
      ]
     },
     "execution_count": 33,
     "metadata": {},
     "output_type": "execute_result"
    },
    {
     "data": {
      "image/png": "[encoded data removed]",
      "text/plain": [
       "<matplotlib.figure.Figure at 0x11268df60>"
      ]
     },
     "metadata": {},
     "output_type": "display_data"
    }
   ],
   "source": [
    "#Repeat but for the top 20 hospitals with largest number of adjective\n",
    "from  collections import Counter\n",
    "adj_counter = Counter()\n",
    "for adj in top_20_hospital_with_most_adj['ADJ']:\n",
    "    try:\n",
    "        adj_list = adj.split(\"\\n\")\n",
    "        for a in adj_list:\n",
    "            #Ignore some that are incorrectly classified:\n",
    "            if(a.lower() not in ['our', 'your', 'main', 'more', 'medical', 'its', 'my', 'that', 'their', 'new', 'other']):\n",
    "                adj_counter[a.lower()] += 1\n",
    "    except:\n",
    "        #Ignore those that are not str\n",
    "        pass\n",
    "adj_counter.most_common(10)\n",
    "\n",
    "most_common_labels = []\n",
    "most_common_count  = []\n",
    "\n",
    "for m in adj_counter.most_common(10):\n",
    "    most_common_labels.append(m[0])\n",
    "    most_common_count.append(m[1])\n",
    "print(most_common_labels)\n",
    "print(most_common_count)\n",
    "    \n",
    "#Display Graph\n",
    "# Set up the matplotlib figure\n",
    "    \n",
    "f, ax1 = plt.subplots(1, 1, figsize=(8, 6), sharex=True)\n",
    "\n",
    "x = np.array(most_common_labels)\n",
    "y1 = np.array(most_common_count)\n",
    "sns.barplot(x, y1, palette=\"Set3\", ax=ax1)\n",
    "ax1.set_title('Top most Adjectives')\n",
    "ax1.set_xticklabels(x,rotation=90)\n",
    "ax1.set_ylabel(\"Count\")"
   ]
  },
  {
   "cell_type": "code",
   "execution_count": null,
   "metadata": {},
   "outputs": [],
   "source": []
  },
  {
   "cell_type": "code",
   "execution_count": null,
   "metadata": {},
   "outputs": [],
   "source": []
  }
 ],
 "metadata": {
  "kernelspec": {
   "display_name": "Python [conda env:py3]",
   "language": "python",
   "name": "conda-env-py3-py"
  },
  "language_info": {
   "codemirror_mode": {
    "name": "ipython",
    "version": 3
   },
   "file_extension": ".py",
   "mimetype": "text/x-python",
   "name": "python",
   "nbconvert_exporter": "python",
   "pygments_lexer": "ipython3",
   "version": "3.6.5"
  }
 },
 "nbformat": 4,
 "nbformat_minor": 2
}
